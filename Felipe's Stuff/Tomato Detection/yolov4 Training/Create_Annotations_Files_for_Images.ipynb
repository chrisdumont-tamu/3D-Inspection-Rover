{
 "cells": [
  {
   "cell_type": "code",
   "execution_count": 2,
   "metadata": {
    "executionInfo": {
     "elapsed": 301,
     "status": "ok",
     "timestamp": 1649806274761,
     "user": {
      "displayName": "Felipe Villegas Villegas",
      "userId": "16377303739957402631"
     },
     "user_tz": 300
    },
    "id": "pBePd1fJRgiG"
   },
   "outputs": [],
   "source": [
    "# Import Necessary Libraries\n",
    "import pandas as pd\n",
    "import os"
   ]
  },
  {
   "cell_type": "code",
   "execution_count": 3,
   "metadata": {
    "colab": {
     "base_uri": "https://localhost:8080/",
     "height": 206
    },
    "executionInfo": {
     "elapsed": 1274,
     "status": "ok",
     "timestamp": 1649806276031,
     "user": {
      "displayName": "Felipe Villegas Villegas",
      "userId": "16377303739957402631"
     },
     "user_tz": 300
    },
    "id": "HEgYy0DCdTzL",
    "outputId": "67ab565f-ab84-4a5d-b0c7-c2b09c233286"
   },
   "outputs": [
    {
     "ename": "FileNotFoundError",
     "evalue": "[WinError 3] The system cannot find the path specified: 'Dataset_and_Annotations/csv_folder'",
     "output_type": "error",
     "traceback": [
      "\u001b[1;31m---------------------------------------------------------------------------\u001b[0m",
      "\u001b[1;31mFileNotFoundError\u001b[0m                         Traceback (most recent call last)",
      "\u001b[1;32m~\\AppData\\Local\\Temp\\ipykernel_8472\\427324452.py\u001b[0m in \u001b[0;36m<module>\u001b[1;34m\u001b[0m\n\u001b[0;32m      1\u001b[0m \u001b[1;31m# Read csv fiels containing\u001b[0m\u001b[1;33m\u001b[0m\u001b[1;33m\u001b[0m\u001b[1;33m\u001b[0m\u001b[0m\n\u001b[1;32m----> 2\u001b[1;33m \u001b[0mos\u001b[0m\u001b[1;33m.\u001b[0m\u001b[0mchdir\u001b[0m\u001b[1;33m(\u001b[0m\u001b[1;34m'Dataset_and_Annotations/csv_folder'\u001b[0m\u001b[1;33m)\u001b[0m\u001b[1;33m\u001b[0m\u001b[1;33m\u001b[0m\u001b[0m\n\u001b[0m\u001b[0;32m      3\u001b[0m \u001b[0mclasses_data\u001b[0m \u001b[1;33m=\u001b[0m \u001b[0mpd\u001b[0m\u001b[1;33m.\u001b[0m\u001b[0mread_csv\u001b[0m\u001b[1;33m(\u001b[0m\u001b[1;34m'class-descriptions-boxable.csv'\u001b[0m\u001b[1;33m,\u001b[0m \u001b[0mheader\u001b[0m\u001b[1;33m=\u001b[0m\u001b[1;32mNone\u001b[0m\u001b[1;33m)\u001b[0m\u001b[1;33m\u001b[0m\u001b[1;33m\u001b[0m\u001b[0m\n\u001b[0;32m      4\u001b[0m \u001b[0mclasses_data\u001b[0m\u001b[1;33m.\u001b[0m\u001b[0mhead\u001b[0m\u001b[1;33m(\u001b[0m\u001b[1;33m)\u001b[0m \u001b[1;31m# Head function used to demonstrate subset of data\u001b[0m\u001b[1;33m\u001b[0m\u001b[1;33m\u001b[0m\u001b[0m\n",
      "\u001b[1;31mFileNotFoundError\u001b[0m: [WinError 3] The system cannot find the path specified: 'Dataset_and_Annotations/csv_folder'"
     ]
    }
   ],
   "source": [
    "# Read csv fiels containing\n",
    "os.chdir('Dataset_and_Annotations/csv_folder')\n",
    "classes_data = pd.read_csv('class-descriptions-boxable.csv', header=None)\n",
    "classes_data.head() # Head function used to demonstrate subset of data"
   ]
  },
  {
   "cell_type": "code",
   "execution_count": 3,
   "metadata": {
    "colab": {
     "base_uri": "https://localhost:8080/"
    },
    "executionInfo": {
     "elapsed": 6,
     "status": "ok",
     "timestamp": 1649806276032,
     "user": {
      "displayName": "Felipe Villegas Villegas",
      "userId": "16377303739957402631"
     },
     "user_tz": 300
    },
    "id": "pTpejsFUdzrL",
    "outputId": "0695e73c-ed28-41b6-eba4-b6c656d6cbce"
   },
   "outputs": [
    {
     "name": "stdout",
     "output_type": "stream",
     "text": [
      "/m/07j87\n",
      "/m/014j1m\n",
      "/m/05s2s\n",
      "['/m/07j87', '/m/014j1m', '/m/05s2s']\n"
     ]
    }
   ],
   "source": [
    "# Define required classes\n",
    "classes = ['Tomato', 'Apple', 'Plant']\n",
    "\n",
    "# Get the string corresponding to the class name and store it inside a list called as class_strings\n",
    "class_strings = []\n",
    "for cls in classes:\n",
    "   # Extract the first column's elements for matching classes (only one class in this case)\n",
    "  req_classes = classes_data.loc[classes_data[1] == cls]\n",
    "  string = req_classes.iloc[0][0]\n",
    "  print(string)\n",
    "  # Append hte string corresponding to the class name into list\n",
    "  class_strings.append(string)\n",
    "\n",
    "print(class_strings)"
   ]
  },
  {
   "cell_type": "code",
   "execution_count": 4,
   "metadata": {
    "colab": {
     "base_uri": "https://localhost:8080/",
     "height": 206
    },
    "executionInfo": {
     "elapsed": 29735,
     "status": "ok",
     "timestamp": 1649806305763,
     "user": {
      "displayName": "Felipe Villegas Villegas",
      "userId": "16377303739957402631"
     },
     "user_tz": 300
    },
    "id": "DEiDdryPf1IG",
    "outputId": "be7e5dcc-18b5-4e5a-8abe-2338c4ec4556"
   },
   "outputs": [
    {
     "data": {
      "text/html": [
       "<div>\n",
       "<style scoped>\n",
       "    .dataframe tbody tr th:only-of-type {\n",
       "        vertical-align: middle;\n",
       "    }\n",
       "\n",
       "    .dataframe tbody tr th {\n",
       "        vertical-align: top;\n",
       "    }\n",
       "\n",
       "    .dataframe thead th {\n",
       "        text-align: right;\n",
       "    }\n",
       "</style>\n",
       "<table border=\"1\" class=\"dataframe\">\n",
       "  <thead>\n",
       "    <tr style=\"text-align: right;\">\n",
       "      <th></th>\n",
       "      <th>ImageID</th>\n",
       "      <th>LabelName</th>\n",
       "      <th>XMin</th>\n",
       "      <th>XMax</th>\n",
       "      <th>YMin</th>\n",
       "      <th>YMax</th>\n",
       "    </tr>\n",
       "  </thead>\n",
       "  <tbody>\n",
       "    <tr>\n",
       "      <th>0</th>\n",
       "      <td>000002b66c9c498e</td>\n",
       "      <td>/m/01g317</td>\n",
       "      <td>0.012500</td>\n",
       "      <td>0.195312</td>\n",
       "      <td>0.148438</td>\n",
       "      <td>0.587500</td>\n",
       "    </tr>\n",
       "    <tr>\n",
       "      <th>1</th>\n",
       "      <td>000002b66c9c498e</td>\n",
       "      <td>/m/01g317</td>\n",
       "      <td>0.025000</td>\n",
       "      <td>0.276563</td>\n",
       "      <td>0.714063</td>\n",
       "      <td>0.948438</td>\n",
       "    </tr>\n",
       "    <tr>\n",
       "      <th>2</th>\n",
       "      <td>000002b66c9c498e</td>\n",
       "      <td>/m/01g317</td>\n",
       "      <td>0.151562</td>\n",
       "      <td>0.310937</td>\n",
       "      <td>0.198437</td>\n",
       "      <td>0.590625</td>\n",
       "    </tr>\n",
       "    <tr>\n",
       "      <th>3</th>\n",
       "      <td>000002b66c9c498e</td>\n",
       "      <td>/m/01g317</td>\n",
       "      <td>0.256250</td>\n",
       "      <td>0.429688</td>\n",
       "      <td>0.651563</td>\n",
       "      <td>0.925000</td>\n",
       "    </tr>\n",
       "    <tr>\n",
       "      <th>4</th>\n",
       "      <td>000002b66c9c498e</td>\n",
       "      <td>/m/01g317</td>\n",
       "      <td>0.257812</td>\n",
       "      <td>0.346875</td>\n",
       "      <td>0.235938</td>\n",
       "      <td>0.385938</td>\n",
       "    </tr>\n",
       "  </tbody>\n",
       "</table>\n",
       "</div>"
      ],
      "text/plain": [
       "            ImageID  LabelName      XMin      XMax      YMin      YMax\n",
       "0  000002b66c9c498e  /m/01g317  0.012500  0.195312  0.148438  0.587500\n",
       "1  000002b66c9c498e  /m/01g317  0.025000  0.276563  0.714063  0.948438\n",
       "2  000002b66c9c498e  /m/01g317  0.151562  0.310937  0.198437  0.590625\n",
       "3  000002b66c9c498e  /m/01g317  0.256250  0.429688  0.651563  0.925000\n",
       "4  000002b66c9c498e  /m/01g317  0.257812  0.346875  0.235938  0.385938"
      ]
     },
     "execution_count": 4,
     "metadata": {},
     "output_type": "execute_result"
    }
   ],
   "source": [
    "# Get only required columns form annotations csv file and get rid of NOT required columns\n",
    "annotation_data = pd.read_csv('train-annotations-bbox.csv',\n",
    "                              usecols = ['ImageID',\n",
    "                                          'LabelName',\n",
    "                                          'XMin',\n",
    "                                          'XMax',\n",
    "                                          'YMin',\n",
    "                                          'YMax'])\n",
    "\n",
    "annotation_data.head() # use head function to display subset"
   ]
  },
  {
   "cell_type": "code",
   "execution_count": 5,
   "metadata": {
    "colab": {
     "base_uri": "https://localhost:8080/",
     "height": 206
    },
    "executionInfo": {
     "elapsed": 23,
     "status": "ok",
     "timestamp": 1649806305764,
     "user": {
      "displayName": "Felipe Villegas Villegas",
      "userId": "16377303739957402631"
     },
     "user_tz": 300
    },
    "id": "rmpaBaODhI0v",
    "outputId": "28d8e1d7-0f29-4007-ed25-0423f7ec8f08"
   },
   "outputs": [
    {
     "data": {
      "text/html": [
       "<div>\n",
       "<style scoped>\n",
       "    .dataframe tbody tr th:only-of-type {\n",
       "        vertical-align: middle;\n",
       "    }\n",
       "\n",
       "    .dataframe tbody tr th {\n",
       "        vertical-align: top;\n",
       "    }\n",
       "\n",
       "    .dataframe thead th {\n",
       "        text-align: right;\n",
       "    }\n",
       "</style>\n",
       "<table border=\"1\" class=\"dataframe\">\n",
       "  <thead>\n",
       "    <tr style=\"text-align: right;\">\n",
       "      <th></th>\n",
       "      <th>ImageID</th>\n",
       "      <th>LabelName</th>\n",
       "      <th>XMin</th>\n",
       "      <th>XMax</th>\n",
       "      <th>YMin</th>\n",
       "      <th>YMax</th>\n",
       "    </tr>\n",
       "  </thead>\n",
       "  <tbody>\n",
       "    <tr>\n",
       "      <th>340</th>\n",
       "      <td>000045257f66b9e2</td>\n",
       "      <td>/m/05s2s</td>\n",
       "      <td>0.000000</td>\n",
       "      <td>0.347656</td>\n",
       "      <td>0.040365</td>\n",
       "      <td>0.998698</td>\n",
       "    </tr>\n",
       "    <tr>\n",
       "      <th>341</th>\n",
       "      <td>000045257f66b9e2</td>\n",
       "      <td>/m/05s2s</td>\n",
       "      <td>0.059570</td>\n",
       "      <td>0.148438</td>\n",
       "      <td>0.087240</td>\n",
       "      <td>0.222656</td>\n",
       "    </tr>\n",
       "    <tr>\n",
       "      <th>342</th>\n",
       "      <td>000045257f66b9e2</td>\n",
       "      <td>/m/05s2s</td>\n",
       "      <td>0.097656</td>\n",
       "      <td>0.147461</td>\n",
       "      <td>0.001302</td>\n",
       "      <td>0.033854</td>\n",
       "    </tr>\n",
       "    <tr>\n",
       "      <th>343</th>\n",
       "      <td>000045257f66b9e2</td>\n",
       "      <td>/m/05s2s</td>\n",
       "      <td>0.146484</td>\n",
       "      <td>0.178711</td>\n",
       "      <td>0.000000</td>\n",
       "      <td>0.049479</td>\n",
       "    </tr>\n",
       "    <tr>\n",
       "      <th>344</th>\n",
       "      <td>000045257f66b9e2</td>\n",
       "      <td>/m/05s2s</td>\n",
       "      <td>0.166016</td>\n",
       "      <td>0.276367</td>\n",
       "      <td>0.061198</td>\n",
       "      <td>0.111979</td>\n",
       "    </tr>\n",
       "  </tbody>\n",
       "</table>\n",
       "</div>"
      ],
      "text/plain": [
       "              ImageID LabelName      XMin      XMax      YMin      YMax\n",
       "340  000045257f66b9e2  /m/05s2s  0.000000  0.347656  0.040365  0.998698\n",
       "341  000045257f66b9e2  /m/05s2s  0.059570  0.148438  0.087240  0.222656\n",
       "342  000045257f66b9e2  /m/05s2s  0.097656  0.147461  0.001302  0.033854\n",
       "343  000045257f66b9e2  /m/05s2s  0.146484  0.178711  0.000000  0.049479\n",
       "344  000045257f66b9e2  /m/05s2s  0.166016  0.276367  0.061198  0.111979"
      ]
     },
     "execution_count": 5,
     "metadata": {},
     "output_type": "execute_result"
    }
   ],
   "source": [
    "# Get only records with matching classes (LabelName = class_string)\n",
    "filtered_class_data = annotation_data.loc[annotation_data['LabelName'].isin(class_strings).copy()]\n",
    "filtered_class_data.head() # use head function to display subset"
   ]
  },
  {
   "cell_type": "code",
   "execution_count": 6,
   "metadata": {
    "colab": {
     "base_uri": "https://localhost:8080/"
    },
    "executionInfo": {
     "elapsed": 21,
     "status": "ok",
     "timestamp": 1649806305764,
     "user": {
      "displayName": "Felipe Villegas Villegas",
      "userId": "16377303739957402631"
     },
     "user_tz": 300
    },
    "id": "qefTLmX_hvj9",
    "outputId": "d32e5939-342a-4d6f-fb6f-e08c37cbffef"
   },
   "outputs": [
    {
     "name": "stderr",
     "output_type": "stream",
     "text": [
      "<ipython-input-6-6c3f973465c4>:2: SettingWithCopyWarning: \n",
      "A value is trying to be set on a copy of a slice from a DataFrame.\n",
      "Try using .loc[row_indexer,col_indexer] = value instead\n",
      "\n",
      "See the caveats in the documentation: https://pandas.pydata.org/pandas-docs/stable/user_guide/indexing.html#returning-a-view-versus-a-copy\n",
      "  filtered_class_data['classNumber'] = ''\n",
      "<ipython-input-6-6c3f973465c4>:3: SettingWithCopyWarning: \n",
      "A value is trying to be set on a copy of a slice from a DataFrame.\n",
      "Try using .loc[row_indexer,col_indexer] = value instead\n",
      "\n",
      "See the caveats in the documentation: https://pandas.pydata.org/pandas-docs/stable/user_guide/indexing.html#returning-a-view-versus-a-copy\n",
      "  filtered_class_data['center x'] = ''\n",
      "<ipython-input-6-6c3f973465c4>:4: SettingWithCopyWarning: \n",
      "A value is trying to be set on a copy of a slice from a DataFrame.\n",
      "Try using .loc[row_indexer,col_indexer] = value instead\n",
      "\n",
      "See the caveats in the documentation: https://pandas.pydata.org/pandas-docs/stable/user_guide/indexing.html#returning-a-view-versus-a-copy\n",
      "  filtered_class_data['center y'] = ''\n",
      "<ipython-input-6-6c3f973465c4>:5: SettingWithCopyWarning: \n",
      "A value is trying to be set on a copy of a slice from a DataFrame.\n",
      "Try using .loc[row_indexer,col_indexer] = value instead\n",
      "\n",
      "See the caveats in the documentation: https://pandas.pydata.org/pandas-docs/stable/user_guide/indexing.html#returning-a-view-versus-a-copy\n",
      "  filtered_class_data['width'] = ''\n",
      "<ipython-input-6-6c3f973465c4>:6: SettingWithCopyWarning: \n",
      "A value is trying to be set on a copy of a slice from a DataFrame.\n",
      "Try using .loc[row_indexer,col_indexer] = value instead\n",
      "\n",
      "See the caveats in the documentation: https://pandas.pydata.org/pandas-docs/stable/user_guide/indexing.html#returning-a-view-versus-a-copy\n",
      "  filtered_class_data['height'] = ''\n"
     ]
    }
   ],
   "source": [
    "# Add new columns that are requred for YOLO format\n",
    "filtered_class_data['classNumber'] = ''\n",
    "filtered_class_data['center x'] = ''\n",
    "filtered_class_data['center y'] = ''\n",
    "filtered_class_data['width'] = ''\n",
    "filtered_class_data['height'] = ''"
   ]
  },
  {
   "cell_type": "code",
   "execution_count": 7,
   "metadata": {
    "colab": {
     "base_uri": "https://localhost:8080/"
    },
    "executionInfo": {
     "elapsed": 16,
     "status": "ok",
     "timestamp": 1649806305765,
     "user": {
      "displayName": "Felipe Villegas Villegas",
      "userId": "16377303739957402631"
     },
     "user_tz": 300
    },
    "id": "RUFG3UMhiKO4",
    "outputId": "f4d739da-bc8d-4120-f831-19bf42a90ade"
   },
   "outputs": [
    {
     "name": "stderr",
     "output_type": "stream",
     "text": [
      "C:\\ProgramData\\Anaconda3\\lib\\site-packages\\pandas\\core\\indexing.py:1765: SettingWithCopyWarning: \n",
      "A value is trying to be set on a copy of a slice from a DataFrame.\n",
      "Try using .loc[row_indexer,col_indexer] = value instead\n",
      "\n",
      "See the caveats in the documentation: https://pandas.pydata.org/pandas-docs/stable/user_guide/indexing.html#returning-a-view-versus-a-copy\n",
      "  isetter(loc, value)\n",
      "<ipython-input-7-feefc8d539a9>:8: SettingWithCopyWarning: \n",
      "A value is trying to be set on a copy of a slice from a DataFrame.\n",
      "Try using .loc[row_indexer,col_indexer] = value instead\n",
      "\n",
      "See the caveats in the documentation: https://pandas.pydata.org/pandas-docs/stable/user_guide/indexing.html#returning-a-view-versus-a-copy\n",
      "  filtered_class_data['center x'] = (filtered_class_data['XMax'] + filtered_class_data['XMin']) / 2\n",
      "<ipython-input-7-feefc8d539a9>:9: SettingWithCopyWarning: \n",
      "A value is trying to be set on a copy of a slice from a DataFrame.\n",
      "Try using .loc[row_indexer,col_indexer] = value instead\n",
      "\n",
      "See the caveats in the documentation: https://pandas.pydata.org/pandas-docs/stable/user_guide/indexing.html#returning-a-view-versus-a-copy\n",
      "  filtered_class_data['center y'] = (filtered_class_data['YMax'] + filtered_class_data['YMin']) / 2\n",
      "<ipython-input-7-feefc8d539a9>:12: SettingWithCopyWarning: \n",
      "A value is trying to be set on a copy of a slice from a DataFrame.\n",
      "Try using .loc[row_indexer,col_indexer] = value instead\n",
      "\n",
      "See the caveats in the documentation: https://pandas.pydata.org/pandas-docs/stable/user_guide/indexing.html#returning-a-view-versus-a-copy\n",
      "  filtered_class_data['width'] = filtered_class_data['XMax'] - filtered_class_data['XMin']\n",
      "<ipython-input-7-feefc8d539a9>:13: SettingWithCopyWarning: \n",
      "A value is trying to be set on a copy of a slice from a DataFrame.\n",
      "Try using .loc[row_indexer,col_indexer] = value instead\n",
      "\n",
      "See the caveats in the documentation: https://pandas.pydata.org/pandas-docs/stable/user_guide/indexing.html#returning-a-view-versus-a-copy\n",
      "  filtered_class_data['height'] = filtered_class_data['YMax'] - filtered_class_data['YMin']\n"
     ]
    }
   ],
   "source": [
    "# Iterate through all ht class strings and assign a class number according to the order thye are apperaing in hte list\n",
    "# for e.g. 0 for for Tomato, 1 if you have an additional class (only 1 class here)\n",
    "for i in range(len(class_strings)):\n",
    "  # Store the result of this operation into classNumber\n",
    "  filtered_class_data.loc[filtered_class_data['LabelName'] == class_strings[i], 'classNumber'] = i\n",
    "\n",
    "  # Calculate center x and center y values\n",
    "  filtered_class_data['center x'] = (filtered_class_data['XMax'] + filtered_class_data['XMin']) / 2\n",
    "  filtered_class_data['center y'] = (filtered_class_data['YMax'] + filtered_class_data['YMin']) / 2\n",
    "\n",
    "  # Calculate width and height values\n",
    "  filtered_class_data['width'] = filtered_class_data['XMax'] - filtered_class_data['XMin']\n",
    "  filtered_class_data['height'] = filtered_class_data['YMax'] - filtered_class_data['YMin']\n",
    "\n",
    "  # Generate the dataframe with YOLO required values\n",
    "  YOLO_values = filtered_class_data.loc[:, ['ImageID', 'classNumber', 'center x', 'center y', 'width', 'height']].copy()\n",
    "  YOLO_values.head()  # use head function to display subset"
   ]
  },
  {
   "cell_type": "code",
   "execution_count": 1,
   "metadata": {
    "executionInfo": {
     "elapsed": 7574,
     "status": "ok",
     "timestamp": 1649806313328,
     "user": {
      "displayName": "Felipe Villegas Villegas",
      "userId": "16377303739957402631"
     },
     "user_tz": 300
    },
    "id": "Ik_LyWX9kNMQ"
   },
   "outputs": [
    {
     "ename": "NameError",
     "evalue": "name 'os' is not defined",
     "output_type": "error",
     "traceback": [
      "\u001b[1;31m---------------------------------------------------------------------------\u001b[0m",
      "\u001b[1;31mNameError\u001b[0m                                 Traceback (most recent call last)",
      "\u001b[1;32m~\\AppData\\Local\\Temp\\ipykernel_8472\\2293834667.py\u001b[0m in \u001b[0;36m<module>\u001b[1;34m\u001b[0m\n\u001b[0;32m      5\u001b[0m \u001b[1;31m# image_path = r'C:\\Users\\felvi\\ecen403programs\\tomato_recognition\\yolov4_attempt_2\\Darknet_Impl\\Dataset_and_Annotations\\Dataset\\validation\\Tomato'\u001b[0m\u001b[1;33m\u001b[0m\u001b[1;33m\u001b[0m\u001b[1;33m\u001b[0m\u001b[0m\n\u001b[0;32m      6\u001b[0m \u001b[0mimage_path\u001b[0m \u001b[1;33m=\u001b[0m \u001b[1;34mr'C:\\Users\\felvi\\ecen403programs\\tomato_recognition\\yolov4_attempt_2\\Darknet_Impl\\Dataset_and_Annotations\\Dataset\\test\\Tomato'\u001b[0m\u001b[1;33m\u001b[0m\u001b[1;33m\u001b[0m\u001b[0m\n\u001b[1;32m----> 7\u001b[1;33m \u001b[0mos\u001b[0m\u001b[1;33m.\u001b[0m\u001b[0mchdir\u001b[0m\u001b[1;33m(\u001b[0m\u001b[0mimage_path\u001b[0m\u001b[1;33m)\u001b[0m\u001b[1;33m\u001b[0m\u001b[1;33m\u001b[0m\u001b[0m\n\u001b[0m\u001b[0;32m      8\u001b[0m \u001b[1;33m\u001b[0m\u001b[0m\n\u001b[0;32m      9\u001b[0m \u001b[1;31m# Go through all the image fiels in the directory\u001b[0m\u001b[1;33m\u001b[0m\u001b[1;33m\u001b[0m\u001b[1;33m\u001b[0m\u001b[0m\n",
      "\u001b[1;31mNameError\u001b[0m: name 'os' is not defined"
     ]
    }
   ],
   "source": [
    "# Change the current directory ot the one where we have Images\n",
    "# image_path = C:/locationOfImagesDir\n",
    "# image_path = r'C:\\Users\\felvi\\ecen403programs\\tomato_recognition\\yolov4_attempt_2\\Darknet_Impl\\Dataset_and_Annotations\\Dataset\\train\\Apple_Plant'\n",
    "# image_path = r'C:\\Users\\felvi\\ecen403programs\\tomato_recognition\\yolov4_attempt_2\\Darknet_Impl\\Dataset_and_Annotations\\Dataset\\train\\Tomato'\n",
    "# image_path = r'C:\\Users\\felvi\\ecen403programs\\tomato_recognition\\yolov4_attempt_2\\Darknet_Impl\\Dataset_and_Annotations\\Dataset\\validation\\Tomato'\n",
    "image_path = r'C:\\Users\\felvi\\ecen403programs\\tomato_recognition\\yolov4_attempt_2\\Darknet_Impl\\Dataset_and_Annotations\\Dataset\\test\\Tomato'\n",
    "os.chdir(image_path)\n",
    "\n",
    "# Go through all the image fiels in the directory\n",
    "# Fullstop in os.walk('.') means the current directory\n",
    "for current_dir, dirs, files in os.walk('.'):\n",
    "  # Iterate through all the files\n",
    "  for f in files:\n",
    "    # Check if the file extension ends with '.jpg'\n",
    "    if f.endswith('jpg'):\n",
    "      # Extract only hte title of the image file so that corresponding txt file can be generated with same name\n",
    "      # as per YOLO guidlines\n",
    "      image_title = f[:-4]\n",
    "      # Get mathced data\n",
    "      YOLO_file = YOLO_values.loc[YOLO_values['ImageID'] == image_title]\n",
    "\n",
    "      # Create a copy of the above dataframe to avoid any mess\n",
    "      df = YOLO_file.loc[:, ['classNumber', 'center x', 'center y', 'width', 'height']].copy()\n",
    "\n",
    "      save_path = image_path + '/' + image_title + '.txt'\n",
    "\n",
    "      # Generate a text file containing required data in YOLO format\n",
    "      df.to_csv(save_path, header=False, index=False, sep=' ')\n",
    "    "
   ]
  },
  {
   "cell_type": "code",
   "execution_count": null,
   "metadata": {},
   "outputs": [],
   "source": []
  },
  {
   "cell_type": "code",
   "execution_count": null,
   "metadata": {},
   "outputs": [],
   "source": []
  }
 ],
 "metadata": {
  "colab": {
   "authorship_tag": "ABX9TyOm0h7o5V4Fk9qLmSl2uFN4",
   "name": "Create_Annotations_Files_for_Images.ipynb",
   "provenance": []
  },
  "kernelspec": {
   "display_name": "Python 3 (ipykernel)",
   "language": "python",
   "name": "python3"
  },
  "language_info": {
   "codemirror_mode": {
    "name": "ipython",
    "version": 3
   },
   "file_extension": ".py",
   "mimetype": "text/x-python",
   "name": "python",
   "nbconvert_exporter": "python",
   "pygments_lexer": "ipython3",
   "version": "3.8.5"
  }
 },
 "nbformat": 4,
 "nbformat_minor": 1
}
