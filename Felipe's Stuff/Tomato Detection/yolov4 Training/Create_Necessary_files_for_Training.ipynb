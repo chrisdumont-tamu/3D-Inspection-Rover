{
 "cells": [
  {
   "cell_type": "markdown",
   "metadata": {
    "id": "tdPRSDciRSNa"
   },
   "source": [
    "This notebook is the same as the 'Create_Necessary_files_for_Training.ipynb', but with the paths updated to the darknet data folder. \n",
    "\n",
    "Note: Spaces in the directory strings will cause problems, we make use of a simbolic link to fix this"
   ]
  },
  {
   "cell_type": "code",
   "execution_count": 9,
   "metadata": {
    "executionInfo": {
     "elapsed": 194,
     "status": "ok",
     "timestamp": 1649814512003,
     "user": {
      "displayName": "Felipe Villegas Villegas",
      "userId": "16377303739957402631"
     },
     "user_tz": 300
    },
    "id": "uzEaJTUeSGa-"
   },
   "outputs": [],
   "source": [
    "# # Create Symbolic Link or Soft Link\n",
    "# Only use if there is a space in the directory\n",
    "# !ln -s <subset of directory that has space> /ecen_403_loc"
   ]
  },
  {
   "cell_type": "code",
   "execution_count": 10,
   "metadata": {
    "executionInfo": {
     "elapsed": 162,
     "status": "ok",
     "timestamp": 1649814516520,
     "user": {
      "displayName": "Felipe Villegas Villegas",
      "userId": "16377303739957402631"
     },
     "user_tz": 300
    },
    "id": "AOA3WCTkiMZT"
   },
   "outputs": [],
   "source": [
    "# Import necessary libraries\n",
    "import os\n",
    "import random"
   ]
  },
  {
   "cell_type": "code",
   "execution_count": 11,
   "metadata": {
    "executionInfo": {
     "elapsed": 1952,
     "status": "ok",
     "timestamp": 1649814527214,
     "user": {
      "displayName": "Felipe Villegas Villegas",
      "userId": "16377303739957402631"
     },
     "user_tz": 300
    },
    "id": "Ie8V6xZ8i_Q1"
   },
   "outputs": [],
   "source": [
    "# Set Image Directory Path\n",
    "# image_path = '/ecen_403_loc/<rest of directory>'\n",
    "\n",
    "#image_path = r'C:\\Users\\felvi\\ecen403programs\\tomato_recognition\\yolov4\\compiled_darknet\\darknet\\data\\full_training_dataset'\n",
    "image_path = r'C:\\Users\\felvi\\ecen403programs\\tomato_recognition\\yolov4\\compiled_darknet\\darknet\\data\\alter_training_dataset'\n",
    "# olympus_path = '/home/ugrads/f/felville/darknet/data/full_training_dataset'\n",
    "os.chdir(image_path)"
   ]
  },
  {
   "cell_type": "code",
   "execution_count": 12,
   "metadata": {
    "executionInfo": {
     "elapsed": 890,
     "status": "ok",
     "timestamp": 1649814532042,
     "user": {
      "displayName": "Felipe Villegas Villegas",
      "userId": "16377303739957402631"
     },
     "user_tz": 300
    },
    "id": "hNE9Mel8jXew"
   },
   "outputs": [],
   "source": [
    "# Interate through each image found in the directory and save the corresponding path to the list callled as path_list\n",
    "\n",
    "path_list = []\n",
    "\n",
    "# Go through all the image files in the directoy that are '.jpg'\n",
    "# Fullstop in os.walk('.') means the current directory\n",
    "for current_dir, dirs, files in os.walk('.'):\n",
    "  # iterating through all the files\n",
    "  for f in files:\n",
    "    # Check if the file extension ends with '.jpg'\n",
    "    if f.endswith('.jpg'):\n",
    "      # Prepare file path to save into train.txt\n",
    "      #file_loc = olympus_path + '/' + f\n",
    "      file_location = image_path + '/' + f\n",
    "      # Append the path data into list \"path_list\". New line character \\n is used to write the new content into\n",
    "      path_list.append(file_location + '\\n')\n",
    "    \n",
    "# Go through all the image files in the directoy that are '.png'\n",
    "# Fullstop in os.walk('.') means the current directory\n",
    "for current_dir, dirs, files in os.walk('.'):\n",
    "  # iterating through all the files\n",
    "  for f in files:\n",
    "    # Check if the file extension ends with '.jpg'\n",
    "    if f.endswith('.png'):\n",
    "      # Prepare file path to save into train.txt\n",
    "      #file_loc = olympus_path + '/' + f\n",
    "      file_location = image_path + '/' + f\n",
    "      # Append the path data into list \"path_list\". New line character \\n is used to write the new content into\n",
    "      path_list.append(file_location + '\\n')\n",
    "    \n",
    "random.shuffle(path_list)"
   ]
  },
  {
   "cell_type": "code",
   "execution_count": 13,
   "metadata": {
    "executionInfo": {
     "elapsed": 144,
     "status": "ok",
     "timestamp": 1649814538686,
     "user": {
      "displayName": "Felipe Villegas Villegas",
      "userId": "16377303739957402631"
     },
     "user_tz": 300
    },
    "id": "rEs-XBsvkWEA"
   },
   "outputs": [],
   "source": [
    "# Divide the data into 80:20 ratio. Get 20% data from path_list\n",
    "# to wriet into the test.txt file\n",
    "path_list_test = path_list[:int(len(path_list) * 0.20)]\n",
    "\n",
    "# Delete the same 20% records from the path_list as the 20% data is in path_list_test now\n",
    "path_list_train = path_list[int(len(path_list) * 0.2):]"
   ]
  },
  {
   "cell_type": "code",
   "execution_count": 15,
   "metadata": {
    "executionInfo": {
     "elapsed": 152,
     "status": "ok",
     "timestamp": 1649814602216,
     "user": {
      "displayName": "Felipe Villegas Villegas",
      "userId": "16377303739957402631"
     },
     "user_tz": 300
    },
    "id": "SQ-CDQp9lTQa"
   },
   "outputs": [],
   "source": [
    "# Create train.txt file and write 80% of data (lines) inside it\n",
    "with open('train.txt', 'w') as train:\n",
    "  # Iterate through all the elements in the list\n",
    "  for i in path_list_train:\n",
    "    # write the current path at the end of the file\n",
    "    train.write(i)\n",
    "\n",
    "# Create test.txt file and write 20% of dta (lines) inside it\n",
    "with open('test.txt', 'w') as test:\n",
    "  # Iterate through all the elements in the list\n",
    "  for i in path_list_test:\n",
    "    # Write the current path at the end of the file\n",
    "    test.write(i)"
   ]
  },
  {
   "cell_type": "code",
   "execution_count": 16,
   "metadata": {
    "executionInfo": {
     "elapsed": 180,
     "status": "ok",
     "timestamp": 1649814776735,
     "user": {
      "displayName": "Felipe Villegas Villegas",
      "userId": "16377303739957402631"
     },
     "user_tz": 300
    },
    "id": "DEMtacNRm0AW"
   },
   "outputs": [
    {
     "name": "stdout",
     "output_type": "stream",
     "text": [
      "i:  3\n"
     ]
    }
   ],
   "source": [
    "# Initialize the counter\n",
    "i = 0\n",
    "\n",
    "# Create classes.names files by reading content from existing classes.txt file\n",
    "with open(image_path + '/' + 'classes.names', 'w') as cls, \\\n",
    "     open(image_path + '/' + 'classes.txt', 'r') as text:\n",
    "  \n",
    "     # Iterate through individual lines in classes.txt file and write them into classes.names file\n",
    "    for l in text:\n",
    "        cls.write(l)\n",
    "        \n",
    "\n",
    "    # Increasing counter\n",
    "        i += 1\n",
    "    # Verity i is correct\n",
    "print('i: ',i)"
   ]
  },
  {
   "cell_type": "code",
   "execution_count": 17,
   "metadata": {
    "executionInfo": {
     "elapsed": 137,
     "status": "ok",
     "timestamp": 1649814731547,
     "user": {
      "displayName": "Felipe Villegas Villegas",
      "userId": "16377303739957402631"
     },
     "user_tz": 300
    },
    "id": "P6DqQDuam3Tg"
   },
   "outputs": [],
   "source": [
    "# Create image_data.data\n",
    "with open(image_path + '/' + 'image_data.data', 'w') as data:\n",
    "  # Write number of classes\n",
    "  data.write('classes = ' + str(i) + '\\n')\n",
    "\n",
    "  # Write fully qualified path of the train.txt file\n",
    "  data.write('train = ' + image_path + '/' + 'train.txt' + '\\n')\n",
    "\n",
    "  # Write fully qualified path of classes.names file\n",
    "  data.write('valid = ' + image_path + '/' + 'test.txt' + '\\n')\n",
    "  \n",
    "  # Write fully qualified path of classes.names file\n",
    "  data.write('names = ' + image_path + '/' + 'classes.names' + '\\n')\n",
    "\n",
    "  # Specify folder path to save trained model wights\n",
    "  data.write('backup = backup')\n",
    "\n",
    "  "
   ]
  },
  {
   "cell_type": "code",
   "execution_count": null,
   "metadata": {},
   "outputs": [],
   "source": []
  }
 ],
 "metadata": {
  "colab": {
   "authorship_tag": "ABX9TyM9HI2nxDleQKewN1y985oP",
   "collapsed_sections": [],
   "name": "in_darknet_Create_Necessary_files_for_Training.ipynb",
   "provenance": []
  },
  "kernelspec": {
   "display_name": "Python 3 (ipykernel)",
   "language": "python",
   "name": "python3"
  },
  "language_info": {
   "codemirror_mode": {
    "name": "ipython",
    "version": 3
   },
   "file_extension": ".py",
   "mimetype": "text/x-python",
   "name": "python",
   "nbconvert_exporter": "python",
   "pygments_lexer": "ipython3",
   "version": "3.8.5"
  }
 },
 "nbformat": 4,
 "nbformat_minor": 1
}
