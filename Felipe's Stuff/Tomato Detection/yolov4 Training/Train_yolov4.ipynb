{
 "cells": [
  {
   "cell_type": "code",
   "execution_count": 2,
   "metadata": {},
   "outputs": [],
   "source": [
    "# Import necessary libraries\n",
    "import os"
   ]
  },
  {
   "cell_type": "code",
   "execution_count": 15,
   "metadata": {},
   "outputs": [
    {
     "name": "stderr",
     "output_type": "stream",
     "text": [
      "'.\\darknet.exe' is not recognized as an internal or external command,\n",
      "operable program or batch file.\n"
     ]
    }
   ],
   "source": [
    "# Change the directory path and provide permission to the darknet folder\n",
    "# Path is main project folder dir\n",
    "path = r'C:\\Users\\felvi\\ecen403programs\\tomato_recognition\\yolov4_attempt_2\\Darknet_Impl/'\n",
    "os.chdir(path + 'darknet')\n",
    "# !sudo chmod +x darknet # Gives permission to darknet folder to solve errors/problems\n",
    "! ./darknet.exe"
   ]
  },
  {
   "cell_type": "code",
   "execution_count": 16,
   "metadata": {},
   "outputs": [
    {
     "name": "stderr",
     "output_type": "stream",
     "text": [
      "'.\\darknet.exe' is not recognized as an internal or external command,\n",
      "operable program or batch file.\n"
     ]
    }
   ],
   "source": [
    "# Train custom object detection model (Actual training of model)\n",
    "! ./darknet detector train data/Tomato/image_data.data cfg/yolov4_train.cfg yolov4.conv.137 -dont_show"
   ]
  },
  {
   "cell_type": "code",
   "execution_count": null,
   "metadata": {},
   "outputs": [],
   "source": []
  }
 ],
 "metadata": {
  "kernelspec": {
   "display_name": "Python 3",
   "language": "python",
   "name": "python3"
  },
  "language_info": {
   "codemirror_mode": {
    "name": "ipython",
    "version": 3
   },
   "file_extension": ".py",
   "mimetype": "text/x-python",
   "name": "python",
   "nbconvert_exporter": "python",
   "pygments_lexer": "ipython3",
   "version": "3.8.5"
  }
 },
 "nbformat": 4,
 "nbformat_minor": 4
}
